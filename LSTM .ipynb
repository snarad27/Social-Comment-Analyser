{
 "cells": [
  {
   "cell_type": "markdown",
   "metadata": {
    "id": "k1KDgzA3EZee"
   },
   "source": [
    "# 0. Install Dependencies and Bring in Data"
   ]
  },
  {
   "cell_type": "code",
   "execution_count": 1,
   "metadata": {
    "collapsed": true,
    "id": "AYhi70m2EZej"
   },
   "outputs": [],
   "source": [
    "#!pip install tensorflow tensorflow-gpu pandas matplotlib sklearn"
   ]
  },
  {
   "cell_type": "code",
   "execution_count": 2,
   "metadata": {
    "collapsed": true,
    "id": "MjZusH7ZEZel"
   },
   "outputs": [],
   "source": [
    "import os\n",
    "import pandas as pd\n",
    "import tensorflow as tf\n",
    "import numpy as np"
   ]
  },
  {
   "cell_type": "code",
   "execution_count": 3,
   "metadata": {
    "collapsed": true
   },
   "outputs": [
    {
     "name": "stdout",
     "output_type": "stream",
     "text": [
      "Requirement already satisfied: datasets in c:\\users\\snara\\.conda\\envs\\tf-gpu\\lib\\site-packages (2.4.0)\n",
      "Requirement already satisfied: tqdm>=4.62.1 in c:\\users\\snara\\.conda\\envs\\tf-gpu\\lib\\site-packages (from datasets) (4.64.1)\n",
      "Requirement already satisfied: xxhash in c:\\users\\snara\\.conda\\envs\\tf-gpu\\lib\\site-packages (from datasets) (3.0.0)\n",
      "Requirement already satisfied: dill<0.3.6 in c:\\users\\snara\\.conda\\envs\\tf-gpu\\lib\\site-packages (from datasets) (0.3.5.1)\n",
      "Requirement already satisfied: responses<0.19 in c:\\users\\snara\\.conda\\envs\\tf-gpu\\lib\\site-packages (from datasets) (0.18.0)\n",
      "Requirement already satisfied: pyarrow>=6.0.0 in c:\\users\\snara\\.conda\\envs\\tf-gpu\\lib\\site-packages (from datasets) (9.0.0)\n",
      "Requirement already satisfied: numpy>=1.17 in c:\\users\\snara\\.conda\\envs\\tf-gpu\\lib\\site-packages (from datasets) (1.23.3)\n",
      "Requirement already satisfied: aiohttp in c:\\users\\snara\\.conda\\envs\\tf-gpu\\lib\\site-packages (from datasets) (3.8.1)\n",
      "Requirement already satisfied: pandas in c:\\users\\snara\\.conda\\envs\\tf-gpu\\lib\\site-packages (from datasets) (1.4.4)\n",
      "Requirement already satisfied: packaging in c:\\users\\snara\\.conda\\envs\\tf-gpu\\lib\\site-packages (from datasets) (21.3)\n",
      "Requirement already satisfied: multiprocess in c:\\users\\snara\\.conda\\envs\\tf-gpu\\lib\\site-packages (from datasets) (0.70.13)\n",
      "Requirement already satisfied: huggingface-hub<1.0.0,>=0.1.0 in c:\\users\\snara\\.conda\\envs\\tf-gpu\\lib\\site-packages (from datasets) (0.9.1)\n",
      "Requirement already satisfied: requests>=2.19.0 in c:\\users\\snara\\.conda\\envs\\tf-gpu\\lib\\site-packages (from datasets) (2.28.1)\n",
      "Requirement already satisfied: fsspec[http]>=2021.11.1 in c:\\users\\snara\\.conda\\envs\\tf-gpu\\lib\\site-packages (from datasets) (2022.8.2)\n",
      "Requirement already satisfied: multidict<7.0,>=4.5 in c:\\users\\snara\\.conda\\envs\\tf-gpu\\lib\\site-packages (from aiohttp->datasets) (6.0.2)\n",
      "Requirement already satisfied: charset-normalizer<3.0,>=2.0 in c:\\users\\snara\\.conda\\envs\\tf-gpu\\lib\\site-packages (from aiohttp->datasets) (2.1.1)\n",
      "Requirement already satisfied: frozenlist>=1.1.1 in c:\\users\\snara\\.conda\\envs\\tf-gpu\\lib\\site-packages (from aiohttp->datasets) (1.3.1)\n",
      "Requirement already satisfied: async-timeout<5.0,>=4.0.0a3 in c:\\users\\snara\\.conda\\envs\\tf-gpu\\lib\\site-packages (from aiohttp->datasets) (4.0.2)\n",
      "Requirement already satisfied: aiosignal>=1.1.2 in c:\\users\\snara\\.conda\\envs\\tf-gpu\\lib\\site-packages (from aiohttp->datasets) (1.2.0)\n",
      "Requirement already satisfied: yarl<2.0,>=1.0 in c:\\users\\snara\\.conda\\envs\\tf-gpu\\lib\\site-packages (from aiohttp->datasets) (1.8.1)\n",
      "Requirement already satisfied: attrs>=17.3.0 in c:\\users\\snara\\.conda\\envs\\tf-gpu\\lib\\site-packages (from aiohttp->datasets) (21.4.0)\n",
      "Requirement already satisfied: pyyaml>=5.1 in c:\\users\\snara\\.conda\\envs\\tf-gpu\\lib\\site-packages (from huggingface-hub<1.0.0,>=0.1.0->datasets) (6.0)\n",
      "Requirement already satisfied: typing-extensions>=3.7.4.3 in c:\\users\\snara\\.conda\\envs\\tf-gpu\\lib\\site-packages (from huggingface-hub<1.0.0,>=0.1.0->datasets) (4.3.0)\n",
      "Requirement already satisfied: filelock in c:\\users\\snara\\.conda\\envs\\tf-gpu\\lib\\site-packages (from huggingface-hub<1.0.0,>=0.1.0->datasets) (3.8.0)\n",
      "Requirement already satisfied: pyparsing!=3.0.5,>=2.0.2 in c:\\users\\snara\\.conda\\envs\\tf-gpu\\lib\\site-packages (from packaging->datasets) (3.0.9)\n",
      "Requirement already satisfied: certifi>=2017.4.17 in c:\\users\\snara\\.conda\\envs\\tf-gpu\\lib\\site-packages (from requests>=2.19.0->datasets) (2022.9.14)\n",
      "Requirement already satisfied: idna<4,>=2.5 in c:\\users\\snara\\.conda\\envs\\tf-gpu\\lib\\site-packages (from requests>=2.19.0->datasets) (3.4)\n",
      "Requirement already satisfied: urllib3<1.27,>=1.21.1 in c:\\users\\snara\\.conda\\envs\\tf-gpu\\lib\\site-packages (from requests>=2.19.0->datasets) (1.26.12)\n",
      "Requirement already satisfied: colorama in c:\\users\\snara\\.conda\\envs\\tf-gpu\\lib\\site-packages (from tqdm>=4.62.1->datasets) (0.4.5)\n",
      "Requirement already satisfied: pytz>=2020.1 in c:\\users\\snara\\.conda\\envs\\tf-gpu\\lib\\site-packages (from pandas->datasets) (2022.2.1)\n",
      "Requirement already satisfied: python-dateutil>=2.8.1 in c:\\users\\snara\\.conda\\envs\\tf-gpu\\lib\\site-packages (from pandas->datasets) (2.8.2)\n",
      "Requirement already satisfied: six>=1.5 in c:\\users\\snara\\.conda\\envs\\tf-gpu\\lib\\site-packages (from python-dateutil>=2.8.1->pandas->datasets) (1.16.0)\n"
     ]
    }
   ],
   "source": [
    "!pip install datasets"
   ]
  },
  {
   "cell_type": "code",
   "execution_count": 4,
   "metadata": {
    "collapsed": true
   },
   "outputs": [
    {
     "name": "stderr",
     "output_type": "stream",
     "text": [
      "C:\\Users\\snara\\.conda\\envs\\tf-gpu\\lib\\site-packages\\tqdm\\auto.py:22: TqdmWarning: IProgress not found. Please update jupyter and ipywidgets. See https://ipywidgets.readthedocs.io/en/stable/user_install.html\n",
      "  from .autonotebook import tqdm as notebook_tqdm\n",
      "Using custom data configuration ucberkeley-dlab--measuring-hate-speech-b2914663eaad033d\n",
      "Reusing dataset parquet (C:\\Users\\snara\\.cache\\huggingface\\datasets\\ucberkeley-dlab___parquet\\ucberkeley-dlab--measuring-hate-speech-b2914663eaad033d\\0.0.0\\2a3b91fbd88a2c90d1dbbb32b460cf621d31bd5b05b934492fdef7d8d6f236ec)\n",
      "100%|████████████████████████████████████████████████████████████████████████████████████| 1/1 [00:00<00:00, 14.80it/s]\n"
     ]
    },
    {
     "data": {
      "text/html": [
       "<div>\n",
       "<style scoped>\n",
       "    .dataframe tbody tr th:only-of-type {\n",
       "        vertical-align: middle;\n",
       "    }\n",
       "\n",
       "    .dataframe tbody tr th {\n",
       "        vertical-align: top;\n",
       "    }\n",
       "\n",
       "    .dataframe thead th {\n",
       "        text-align: right;\n",
       "    }\n",
       "</style>\n",
       "<table border=\"1\" class=\"dataframe\">\n",
       "  <thead>\n",
       "    <tr style=\"text-align: right;\">\n",
       "      <th></th>\n",
       "      <th>comment_id</th>\n",
       "      <th>annotator_id</th>\n",
       "      <th>platform</th>\n",
       "      <th>sentiment</th>\n",
       "      <th>respect</th>\n",
       "      <th>insult</th>\n",
       "      <th>humiliate</th>\n",
       "      <th>status</th>\n",
       "      <th>dehumanize</th>\n",
       "      <th>violence</th>\n",
       "      <th>...</th>\n",
       "      <th>hatespeech</th>\n",
       "      <th>hate_speech_score</th>\n",
       "      <th>infitms</th>\n",
       "      <th>outfitms</th>\n",
       "      <th>annotator_severity</th>\n",
       "      <th>std_err</th>\n",
       "      <th>annotator_infitms</th>\n",
       "      <th>annotator_outfitms</th>\n",
       "      <th>hypothesis</th>\n",
       "      <th>annotator_age</th>\n",
       "    </tr>\n",
       "  </thead>\n",
       "  <tbody>\n",
       "    <tr>\n",
       "      <th>count</th>\n",
       "      <td>135556.000000</td>\n",
       "      <td>135556.000000</td>\n",
       "      <td>135556.000000</td>\n",
       "      <td>135556.000000</td>\n",
       "      <td>135556.000000</td>\n",
       "      <td>135556.00000</td>\n",
       "      <td>135556.000000</td>\n",
       "      <td>135556.000000</td>\n",
       "      <td>135556.000000</td>\n",
       "      <td>135556.000000</td>\n",
       "      <td>...</td>\n",
       "      <td>135556.000000</td>\n",
       "      <td>135556.000000</td>\n",
       "      <td>135556.000000</td>\n",
       "      <td>135556.000000</td>\n",
       "      <td>135556.000000</td>\n",
       "      <td>135556.000000</td>\n",
       "      <td>135556.000000</td>\n",
       "      <td>135556.000000</td>\n",
       "      <td>135556.000000</td>\n",
       "      <td>135451.000000</td>\n",
       "    </tr>\n",
       "    <tr>\n",
       "      <th>mean</th>\n",
       "      <td>23530.416138</td>\n",
       "      <td>5567.097812</td>\n",
       "      <td>1.281352</td>\n",
       "      <td>2.954307</td>\n",
       "      <td>2.828875</td>\n",
       "      <td>2.56331</td>\n",
       "      <td>2.278638</td>\n",
       "      <td>2.698575</td>\n",
       "      <td>1.846211</td>\n",
       "      <td>1.052045</td>\n",
       "      <td>...</td>\n",
       "      <td>0.744733</td>\n",
       "      <td>-0.567428</td>\n",
       "      <td>1.034322</td>\n",
       "      <td>1.001052</td>\n",
       "      <td>-0.018817</td>\n",
       "      <td>0.300588</td>\n",
       "      <td>1.007158</td>\n",
       "      <td>1.011841</td>\n",
       "      <td>0.014589</td>\n",
       "      <td>37.910772</td>\n",
       "    </tr>\n",
       "    <tr>\n",
       "      <th>std</th>\n",
       "      <td>12387.194125</td>\n",
       "      <td>3230.508937</td>\n",
       "      <td>1.023542</td>\n",
       "      <td>1.231552</td>\n",
       "      <td>1.309548</td>\n",
       "      <td>1.38983</td>\n",
       "      <td>1.370876</td>\n",
       "      <td>0.898500</td>\n",
       "      <td>1.402372</td>\n",
       "      <td>1.345706</td>\n",
       "      <td>...</td>\n",
       "      <td>0.932260</td>\n",
       "      <td>2.380003</td>\n",
       "      <td>0.496867</td>\n",
       "      <td>0.791943</td>\n",
       "      <td>0.487261</td>\n",
       "      <td>0.236380</td>\n",
       "      <td>0.269876</td>\n",
       "      <td>0.675863</td>\n",
       "      <td>0.613006</td>\n",
       "      <td>11.641276</td>\n",
       "    </tr>\n",
       "    <tr>\n",
       "      <th>min</th>\n",
       "      <td>1.000000</td>\n",
       "      <td>1.000000</td>\n",
       "      <td>0.000000</td>\n",
       "      <td>0.000000</td>\n",
       "      <td>0.000000</td>\n",
       "      <td>0.00000</td>\n",
       "      <td>0.000000</td>\n",
       "      <td>0.000000</td>\n",
       "      <td>0.000000</td>\n",
       "      <td>0.000000</td>\n",
       "      <td>...</td>\n",
       "      <td>0.000000</td>\n",
       "      <td>-8.340000</td>\n",
       "      <td>0.100000</td>\n",
       "      <td>0.070000</td>\n",
       "      <td>-1.820000</td>\n",
       "      <td>0.020000</td>\n",
       "      <td>0.390000</td>\n",
       "      <td>0.280000</td>\n",
       "      <td>-1.578693</td>\n",
       "      <td>18.000000</td>\n",
       "    </tr>\n",
       "    <tr>\n",
       "      <th>25%</th>\n",
       "      <td>18148.000000</td>\n",
       "      <td>2719.000000</td>\n",
       "      <td>0.000000</td>\n",
       "      <td>2.000000</td>\n",
       "      <td>2.000000</td>\n",
       "      <td>2.00000</td>\n",
       "      <td>1.000000</td>\n",
       "      <td>2.000000</td>\n",
       "      <td>1.000000</td>\n",
       "      <td>0.000000</td>\n",
       "      <td>...</td>\n",
       "      <td>0.000000</td>\n",
       "      <td>-2.330000</td>\n",
       "      <td>0.710000</td>\n",
       "      <td>0.560000</td>\n",
       "      <td>-0.380000</td>\n",
       "      <td>0.030000</td>\n",
       "      <td>0.810000</td>\n",
       "      <td>0.670000</td>\n",
       "      <td>-0.341008</td>\n",
       "      <td>29.000000</td>\n",
       "    </tr>\n",
       "    <tr>\n",
       "      <th>50%</th>\n",
       "      <td>20052.000000</td>\n",
       "      <td>5602.500000</td>\n",
       "      <td>1.000000</td>\n",
       "      <td>3.000000</td>\n",
       "      <td>3.000000</td>\n",
       "      <td>3.00000</td>\n",
       "      <td>3.000000</td>\n",
       "      <td>3.000000</td>\n",
       "      <td>2.000000</td>\n",
       "      <td>0.000000</td>\n",
       "      <td>...</td>\n",
       "      <td>0.000000</td>\n",
       "      <td>-0.340000</td>\n",
       "      <td>0.960000</td>\n",
       "      <td>0.830000</td>\n",
       "      <td>-0.020000</td>\n",
       "      <td>0.340000</td>\n",
       "      <td>0.970000</td>\n",
       "      <td>0.850000</td>\n",
       "      <td>0.110405</td>\n",
       "      <td>35.000000</td>\n",
       "    </tr>\n",
       "    <tr>\n",
       "      <th>75%</th>\n",
       "      <td>32038.250000</td>\n",
       "      <td>8363.000000</td>\n",
       "      <td>2.000000</td>\n",
       "      <td>4.000000</td>\n",
       "      <td>4.000000</td>\n",
       "      <td>4.00000</td>\n",
       "      <td>3.000000</td>\n",
       "      <td>3.000000</td>\n",
       "      <td>3.000000</td>\n",
       "      <td>2.000000</td>\n",
       "      <td>...</td>\n",
       "      <td>2.000000</td>\n",
       "      <td>1.410000</td>\n",
       "      <td>1.300000</td>\n",
       "      <td>1.220000</td>\n",
       "      <td>0.350000</td>\n",
       "      <td>0.420000</td>\n",
       "      <td>1.170000</td>\n",
       "      <td>1.130000</td>\n",
       "      <td>0.449555</td>\n",
       "      <td>45.000000</td>\n",
       "    </tr>\n",
       "    <tr>\n",
       "      <th>max</th>\n",
       "      <td>50070.000000</td>\n",
       "      <td>11142.000000</td>\n",
       "      <td>3.000000</td>\n",
       "      <td>4.000000</td>\n",
       "      <td>4.000000</td>\n",
       "      <td>4.00000</td>\n",
       "      <td>4.000000</td>\n",
       "      <td>4.000000</td>\n",
       "      <td>4.000000</td>\n",
       "      <td>4.000000</td>\n",
       "      <td>...</td>\n",
       "      <td>2.000000</td>\n",
       "      <td>6.300000</td>\n",
       "      <td>5.900000</td>\n",
       "      <td>9.000000</td>\n",
       "      <td>1.360000</td>\n",
       "      <td>1.900000</td>\n",
       "      <td>2.010000</td>\n",
       "      <td>9.000000</td>\n",
       "      <td>0.987511</td>\n",
       "      <td>81.000000</td>\n",
       "    </tr>\n",
       "  </tbody>\n",
       "</table>\n",
       "<p>8 rows × 22 columns</p>\n",
       "</div>"
      ],
      "text/plain": [
       "          comment_id   annotator_id       platform      sentiment  \\\n",
       "count  135556.000000  135556.000000  135556.000000  135556.000000   \n",
       "mean    23530.416138    5567.097812       1.281352       2.954307   \n",
       "std     12387.194125    3230.508937       1.023542       1.231552   \n",
       "min         1.000000       1.000000       0.000000       0.000000   \n",
       "25%     18148.000000    2719.000000       0.000000       2.000000   \n",
       "50%     20052.000000    5602.500000       1.000000       3.000000   \n",
       "75%     32038.250000    8363.000000       2.000000       4.000000   \n",
       "max     50070.000000   11142.000000       3.000000       4.000000   \n",
       "\n",
       "             respect        insult      humiliate         status  \\\n",
       "count  135556.000000  135556.00000  135556.000000  135556.000000   \n",
       "mean        2.828875       2.56331       2.278638       2.698575   \n",
       "std         1.309548       1.38983       1.370876       0.898500   \n",
       "min         0.000000       0.00000       0.000000       0.000000   \n",
       "25%         2.000000       2.00000       1.000000       2.000000   \n",
       "50%         3.000000       3.00000       3.000000       3.000000   \n",
       "75%         4.000000       4.00000       3.000000       3.000000   \n",
       "max         4.000000       4.00000       4.000000       4.000000   \n",
       "\n",
       "          dehumanize       violence  ...     hatespeech  hate_speech_score  \\\n",
       "count  135556.000000  135556.000000  ...  135556.000000      135556.000000   \n",
       "mean        1.846211       1.052045  ...       0.744733          -0.567428   \n",
       "std         1.402372       1.345706  ...       0.932260           2.380003   \n",
       "min         0.000000       0.000000  ...       0.000000          -8.340000   \n",
       "25%         1.000000       0.000000  ...       0.000000          -2.330000   \n",
       "50%         2.000000       0.000000  ...       0.000000          -0.340000   \n",
       "75%         3.000000       2.000000  ...       2.000000           1.410000   \n",
       "max         4.000000       4.000000  ...       2.000000           6.300000   \n",
       "\n",
       "             infitms       outfitms  annotator_severity        std_err  \\\n",
       "count  135556.000000  135556.000000       135556.000000  135556.000000   \n",
       "mean        1.034322       1.001052           -0.018817       0.300588   \n",
       "std         0.496867       0.791943            0.487261       0.236380   \n",
       "min         0.100000       0.070000           -1.820000       0.020000   \n",
       "25%         0.710000       0.560000           -0.380000       0.030000   \n",
       "50%         0.960000       0.830000           -0.020000       0.340000   \n",
       "75%         1.300000       1.220000            0.350000       0.420000   \n",
       "max         5.900000       9.000000            1.360000       1.900000   \n",
       "\n",
       "       annotator_infitms  annotator_outfitms     hypothesis  annotator_age  \n",
       "count      135556.000000       135556.000000  135556.000000  135451.000000  \n",
       "mean            1.007158            1.011841       0.014589      37.910772  \n",
       "std             0.269876            0.675863       0.613006      11.641276  \n",
       "min             0.390000            0.280000      -1.578693      18.000000  \n",
       "25%             0.810000            0.670000      -0.341008      29.000000  \n",
       "50%             0.970000            0.850000       0.110405      35.000000  \n",
       "75%             1.170000            1.130000       0.449555      45.000000  \n",
       "max             2.010000            9.000000       0.987511      81.000000  \n",
       "\n",
       "[8 rows x 22 columns]"
      ]
     },
     "execution_count": 4,
     "metadata": {},
     "output_type": "execute_result"
    }
   ],
   "source": [
    "import datasets \n",
    "dataset = datasets.load_dataset('ucberkeley-dlab/measuring-hate-speech', 'binary')   \n",
    "data = dataset['train'].to_pandas()\n",
    "data.describe()"
   ]
  },
  {
   "cell_type": "code",
   "execution_count": 5,
   "metadata": {
    "collapsed": true
   },
   "outputs": [],
   "source": [
    "df=data.iloc[:50000, 3:13]\n",
    "df['hatespeech'] = df['hatespeech'].replace(1,3)\n",
    "df['hatespeech'] = df['hatespeech'].replace(2,4)\n",
    "#df.loc[ df['hatespeech'] == '1', 'hatespeech'] = '3'\n",
    "f = lambda x: 1 if x>=3.0 else 0\n",
    "df=df.applymap(f)"
   ]
  },
  {
   "cell_type": "code",
   "execution_count": 6,
   "metadata": {
    "collapsed": true
   },
   "outputs": [],
   "source": [
    "new_df=pd.DataFrame()\n",
    "new_df['text'] = data['text'][:50000]\n",
    "new_df['label'] = df.iloc[:,:].values.tolist()"
   ]
  },
  {
   "cell_type": "code",
   "execution_count": 7,
   "metadata": {
    "collapsed": true
   },
   "outputs": [
    {
     "data": {
      "text/plain": [
       "(50000, 2)"
      ]
     },
     "execution_count": 7,
     "metadata": {},
     "output_type": "execute_result"
    }
   ],
   "source": [
    "new_df.shape"
   ]
  },
  {
   "cell_type": "markdown",
   "metadata": {
    "id": "zj1r0SCREZen"
   },
   "source": [
    "# 1. Preprocess"
   ]
  },
  {
   "cell_type": "code",
   "execution_count": 8,
   "metadata": {
    "collapsed": true,
    "id": "3dORMcrWEZeo"
   },
   "outputs": [],
   "source": [
    "from tensorflow.keras.layers import TextVectorization"
   ]
  },
  {
   "cell_type": "code",
   "execution_count": 9,
   "metadata": {
    "collapsed": true,
    "id": "EHrAEN6REZeo"
   },
   "outputs": [],
   "source": [
    "X = new_df['text']\n",
    "y = new_df['label'].values"
   ]
  },
  {
   "cell_type": "code",
   "execution_count": 10,
   "metadata": {
    "collapsed": true,
    "id": "yAGLG34tEZeo"
   },
   "outputs": [],
   "source": [
    "MAX_FEATURES = 200000 # number of words in the vocab"
   ]
  },
  {
   "cell_type": "code",
   "execution_count": 11,
   "metadata": {
    "collapsed": true,
    "id": "it0kiQiyEZep"
   },
   "outputs": [],
   "source": [
    "vectorizer = TextVectorization(max_tokens=MAX_FEATURES,\n",
    "                               output_sequence_length=1800,\n",
    "                               output_mode='int')"
   ]
  },
  {
   "cell_type": "code",
   "execution_count": 12,
   "metadata": {
    "collapsed": true,
    "id": "8aQkEfgXEZep"
   },
   "outputs": [],
   "source": [
    "vectorizer.adapt(X.values)"
   ]
  },
  {
   "cell_type": "code",
   "execution_count": 13,
   "metadata": {
    "collapsed": true,
    "id": "NqsGJnN_EZep"
   },
   "outputs": [],
   "source": [
    "vectorized_text = vectorizer(X.values)"
   ]
  },
  {
   "cell_type": "code",
   "execution_count": 14,
   "metadata": {
    "collapsed": true,
    "id": "NXwiPU3EEZep"
   },
   "outputs": [],
   "source": [
    "#MCSHBAP - map, chache, shuffle, batch, prefetch  from_tensor_slices, list_file\n",
    "dataset = tf.data.Dataset.from_tensor_slices((vectorized_text, np.array([np.array(val) for val in new_df['label']])))\n",
    "dataset = dataset.cache()\n",
    "dataset = dataset.shuffle(16)\n",
    "dataset = dataset.batch(200)\n",
    "dataset = dataset.prefetch(8) # helps bottlenecks"
   ]
  },
  {
   "cell_type": "code",
   "execution_count": 15,
   "metadata": {
    "collapsed": true,
    "id": "glh_ouSeEZeq"
   },
   "outputs": [],
   "source": [
    "train = dataset.take(int(len(dataset)*.7))\n",
    "val = dataset.skip(int(len(dataset)*.7)).take(int(len(dataset)*.2))\n",
    "test = dataset.skip(int(len(dataset)*.9)).take(int(len(dataset)*.1))"
   ]
  },
  {
   "cell_type": "markdown",
   "metadata": {
    "id": "HHIdE95PEZeq"
   },
   "source": [
    "# 2. Create Sequential Model"
   ]
  },
  {
   "cell_type": "code",
   "execution_count": 16,
   "metadata": {
    "collapsed": true,
    "id": "FE5CMWetEZeq"
   },
   "outputs": [],
   "source": [
    "from tensorflow.keras.models import Sequential\n",
    "from tensorflow.keras.layers import LSTM, Dropout, Bidirectional, Dense, Embedding"
   ]
  },
  {
   "cell_type": "code",
   "execution_count": 17,
   "metadata": {
    "collapsed": true,
    "id": "fqD9Hwp7EZeq"
   },
   "outputs": [],
   "source": [
    "model = Sequential()\n",
    "# Create the embedding layer \n",
    "model.add(Embedding(MAX_FEATURES+1, 32))\n",
    "# Bidirectional LSTM Layer\n",
    "model.add(Bidirectional(LSTM(32, activation='tanh')))\n",
    "# Feature extractor Fully connected layers\n",
    "model.add(Dense(128, activation='relu'))\n",
    "model.add(Dense(256, activation='relu'))\n",
    "model.add(Dense(128, activation='relu'))\n",
    "# Final layer \n",
    "model.add(Dense(10, activation='sigmoid'))"
   ]
  },
  {
   "cell_type": "code",
   "execution_count": 18,
   "metadata": {
    "collapsed": true,
    "id": "BnohwTBOEZer"
   },
   "outputs": [],
   "source": [
    "model.compile(loss='BinaryCrossentropy', optimizer='Adam')"
   ]
  },
  {
   "cell_type": "code",
   "execution_count": 19,
   "metadata": {
    "colab": {
     "base_uri": "https://localhost:8080/"
    },
    "collapsed": true,
    "id": "5t5vMBI1EZer",
    "outputId": "6da2e26d-1969-4db4-cb10-dc4f8515059d"
   },
   "outputs": [
    {
     "name": "stdout",
     "output_type": "stream",
     "text": [
      "Model: \"sequential\"\n",
      "_________________________________________________________________\n",
      " Layer (type)                Output Shape              Param #   \n",
      "=================================================================\n",
      " embedding (Embedding)       (None, None, 32)          6400032   \n",
      "                                                                 \n",
      " bidirectional (Bidirectiona  (None, 64)               16640     \n",
      " l)                                                              \n",
      "                                                                 \n",
      " dense (Dense)               (None, 128)               8320      \n",
      "                                                                 \n",
      " dense_1 (Dense)             (None, 256)               33024     \n",
      "                                                                 \n",
      " dense_2 (Dense)             (None, 128)               32896     \n",
      "                                                                 \n",
      " dense_3 (Dense)             (None, 10)                1290      \n",
      "                                                                 \n",
      "=================================================================\n",
      "Total params: 6,492,202\n",
      "Trainable params: 6,492,202\n",
      "Non-trainable params: 0\n",
      "_________________________________________________________________\n"
     ]
    }
   ],
   "source": [
    "model.summary()"
   ]
  },
  {
   "cell_type": "code",
   "execution_count": 20,
   "metadata": {
    "colab": {
     "base_uri": "https://localhost:8080/"
    },
    "collapsed": true,
    "id": "YVC-ZIL9EZer",
    "outputId": "a02a684a-a331-4b5d-a25e-3aa30db63dfb"
   },
   "outputs": [
    {
     "name": "stdout",
     "output_type": "stream",
     "text": [
      "Epoch 1/100\n",
      "175/175 [==============================] - 38s 183ms/step - loss: 0.5364 - val_loss: 0.4685\n",
      "Epoch 2/100\n",
      "175/175 [==============================] - 31s 178ms/step - loss: 0.4343 - val_loss: 0.4576\n",
      "Epoch 3/100\n",
      "175/175 [==============================] - 32s 181ms/step - loss: 0.3925 - val_loss: 0.4697\n",
      "Epoch 4/100\n",
      "175/175 [==============================] - 32s 185ms/step - loss: 0.3664 - val_loss: 0.5032\n",
      "Epoch 5/100\n",
      "175/175 [==============================] - 30s 174ms/step - loss: 0.3500 - val_loss: 0.4796\n",
      "Epoch 6/100\n",
      "175/175 [==============================] - 30s 174ms/step - loss: 0.3353 - val_loss: 0.4944\n",
      "Epoch 7/100\n",
      "175/175 [==============================] - 33s 187ms/step - loss: 0.3195 - val_loss: 0.5417\n",
      "Epoch 8/100\n",
      "175/175 [==============================] - 31s 180ms/step - loss: 0.3081 - val_loss: 0.5621\n",
      "Epoch 9/100\n",
      "175/175 [==============================] - 32s 183ms/step - loss: 0.3021 - val_loss: 0.5423\n",
      "Epoch 10/100\n",
      "175/175 [==============================] - 32s 181ms/step - loss: 0.2966 - val_loss: 0.5734\n",
      "Epoch 11/100\n",
      "175/175 [==============================] - 33s 186ms/step - loss: 0.2979 - val_loss: 0.5675\n",
      "Epoch 12/100\n",
      "175/175 [==============================] - 33s 187ms/step - loss: 0.2895 - val_loss: 0.5973\n",
      "Epoch 13/100\n",
      "175/175 [==============================] - 33s 191ms/step - loss: 0.2741 - val_loss: 0.6319\n",
      "Epoch 14/100\n",
      "175/175 [==============================] - 31s 176ms/step - loss: 0.2631 - val_loss: 0.6881\n",
      "Epoch 15/100\n",
      "175/175 [==============================] - 33s 188ms/step - loss: 0.2582 - val_loss: 0.7474\n",
      "Epoch 16/100\n",
      "175/175 [==============================] - 31s 179ms/step - loss: 0.2549 - val_loss: 0.7895\n",
      "Epoch 17/100\n",
      "175/175 [==============================] - 32s 180ms/step - loss: 0.2517 - val_loss: 0.7640\n",
      "Epoch 18/100\n",
      "175/175 [==============================] - 33s 187ms/step - loss: 0.2457 - val_loss: 0.7830\n",
      "Epoch 19/100\n",
      "175/175 [==============================] - 33s 190ms/step - loss: 0.2406 - val_loss: 0.7514\n",
      "Epoch 20/100\n",
      "175/175 [==============================] - 33s 189ms/step - loss: 0.2339 - val_loss: 0.8230\n",
      "Epoch 21/100\n",
      "175/175 [==============================] - 33s 187ms/step - loss: 0.2293 - val_loss: 0.8628\n",
      "Epoch 22/100\n",
      "175/175 [==============================] - 38s 218ms/step - loss: 0.2267 - val_loss: 0.9059\n",
      "Epoch 23/100\n",
      "175/175 [==============================] - 33s 191ms/step - loss: 0.2240 - val_loss: 0.9467\n",
      "Epoch 24/100\n",
      "175/175 [==============================] - 32s 181ms/step - loss: 0.2167 - val_loss: 0.9790\n",
      "Epoch 25/100\n",
      "175/175 [==============================] - 34s 195ms/step - loss: 0.2113 - val_loss: 1.0230\n",
      "Epoch 26/100\n",
      "175/175 [==============================] - 32s 185ms/step - loss: 0.2080 - val_loss: 1.0724\n",
      "Epoch 27/100\n",
      "175/175 [==============================] - 33s 191ms/step - loss: 0.2076 - val_loss: 1.0629\n",
      "Epoch 28/100\n",
      "175/175 [==============================] - 32s 186ms/step - loss: 0.2081 - val_loss: 1.1263\n",
      "Epoch 29/100\n",
      "175/175 [==============================] - 34s 192ms/step - loss: 0.2082 - val_loss: 1.2155\n",
      "Epoch 30/100\n",
      "175/175 [==============================] - 30s 172ms/step - loss: 0.2051 - val_loss: 1.1851\n",
      "Epoch 31/100\n",
      "175/175 [==============================] - 32s 183ms/step - loss: 0.1992 - val_loss: 1.2684\n",
      "Epoch 32/100\n",
      "175/175 [==============================] - 33s 189ms/step - loss: 0.1926 - val_loss: 1.3238\n",
      "Epoch 33/100\n",
      "175/175 [==============================] - 33s 189ms/step - loss: 0.1907 - val_loss: 1.4116\n",
      "Epoch 34/100\n",
      "175/175 [==============================] - 33s 189ms/step - loss: 0.1919 - val_loss: 1.4663\n",
      "Epoch 35/100\n",
      "175/175 [==============================] - 34s 192ms/step - loss: 0.1888 - val_loss: 1.3815\n",
      "Epoch 36/100\n",
      "175/175 [==============================] - 34s 197ms/step - loss: 0.1846 - val_loss: 1.3937\n",
      "Epoch 37/100\n",
      "175/175 [==============================] - 35s 202ms/step - loss: 0.1814 - val_loss: 1.5703\n",
      "Epoch 38/100\n",
      "175/175 [==============================] - 35s 202ms/step - loss: 0.1823 - val_loss: 1.6771\n",
      "Epoch 39/100\n",
      "175/175 [==============================] - 36s 207ms/step - loss: 0.1841 - val_loss: 1.7172\n",
      "Epoch 40/100\n",
      "175/175 [==============================] - 36s 205ms/step - loss: 0.1851 - val_loss: 1.7365\n",
      "Epoch 41/100\n",
      "175/175 [==============================] - 34s 192ms/step - loss: 0.1838 - val_loss: 1.7576\n",
      "Epoch 42/100\n",
      "175/175 [==============================] - 34s 195ms/step - loss: 0.1831 - val_loss: 1.8212\n",
      "Epoch 43/100\n",
      "175/175 [==============================] - 34s 196ms/step - loss: 0.1820 - val_loss: 1.7311\n",
      "Epoch 44/100\n",
      "175/175 [==============================] - 34s 196ms/step - loss: 0.1775 - val_loss: 1.6959\n",
      "Epoch 45/100\n",
      "175/175 [==============================] - 34s 193ms/step - loss: 0.1721 - val_loss: 1.7860\n",
      "Epoch 46/100\n",
      "175/175 [==============================] - 34s 196ms/step - loss: 0.1673 - val_loss: 1.7799\n",
      "Epoch 47/100\n",
      "175/175 [==============================] - 35s 202ms/step - loss: 0.1646 - val_loss: 1.7716\n",
      "Epoch 48/100\n",
      "175/175 [==============================] - 34s 196ms/step - loss: 0.1622 - val_loss: 1.8234\n",
      "Epoch 49/100\n",
      "175/175 [==============================] - 34s 197ms/step - loss: 0.1626 - val_loss: 1.7732\n",
      "Epoch 50/100\n",
      "175/175 [==============================] - 35s 200ms/step - loss: 0.1634 - val_loss: 1.7528\n",
      "Epoch 51/100\n",
      "175/175 [==============================] - 34s 192ms/step - loss: 0.1615 - val_loss: 1.8885\n",
      "Epoch 52/100\n",
      "175/175 [==============================] - 36s 206ms/step - loss: 0.1597 - val_loss: 1.9827\n",
      "Epoch 53/100\n",
      "175/175 [==============================] - 35s 197ms/step - loss: 0.1582 - val_loss: 1.9022\n",
      "Epoch 54/100\n",
      "175/175 [==============================] - 34s 196ms/step - loss: 0.1582 - val_loss: 1.7575\n",
      "Epoch 55/100\n",
      "175/175 [==============================] - 35s 198ms/step - loss: 0.1556 - val_loss: 1.8606\n",
      "Epoch 56/100\n",
      "175/175 [==============================] - 36s 205ms/step - loss: 0.1517 - val_loss: 1.9183\n",
      "Epoch 57/100\n",
      "175/175 [==============================] - 34s 194ms/step - loss: 0.1494 - val_loss: 2.0542\n",
      "Epoch 58/100\n",
      "175/175 [==============================] - 33s 191ms/step - loss: 0.1458 - val_loss: 2.2976\n",
      "Epoch 59/100\n",
      "175/175 [==============================] - 33s 187ms/step - loss: 0.1454 - val_loss: 2.3460\n",
      "Epoch 60/100\n",
      "175/175 [==============================] - 33s 189ms/step - loss: 0.1454 - val_loss: 2.3191\n",
      "Epoch 61/100\n",
      "175/175 [==============================] - 32s 183ms/step - loss: 0.1461 - val_loss: 2.1273\n",
      "Epoch 62/100\n",
      "175/175 [==============================] - 32s 181ms/step - loss: 0.1462 - val_loss: 2.0899\n",
      "Epoch 63/100\n",
      "175/175 [==============================] - 32s 185ms/step - loss: 0.1450 - val_loss: 2.3222\n",
      "Epoch 64/100\n",
      "175/175 [==============================] - 35s 199ms/step - loss: 0.1459 - val_loss: 2.3238\n",
      "Epoch 65/100\n",
      "175/175 [==============================] - 35s 198ms/step - loss: 0.1484 - val_loss: 2.1843\n",
      "Epoch 66/100\n",
      "175/175 [==============================] - 33s 191ms/step - loss: 0.1480 - val_loss: 2.3649\n",
      "Epoch 67/100\n",
      "175/175 [==============================] - 33s 189ms/step - loss: 0.1423 - val_loss: 2.6266\n",
      "Epoch 68/100\n",
      "175/175 [==============================] - 33s 188ms/step - loss: 0.1371 - val_loss: 2.6295\n",
      "Epoch 69/100\n",
      "175/175 [==============================] - 32s 185ms/step - loss: 0.1331 - val_loss: 2.7289\n",
      "Epoch 70/100\n",
      "175/175 [==============================] - 33s 189ms/step - loss: 0.1314 - val_loss: 2.7882\n",
      "Epoch 71/100\n",
      "175/175 [==============================] - 33s 189ms/step - loss: 0.1303 - val_loss: 3.0321\n",
      "Epoch 72/100\n",
      "175/175 [==============================] - 33s 191ms/step - loss: 0.1303 - val_loss: 3.0023\n",
      "Epoch 73/100\n",
      "175/175 [==============================] - 33s 191ms/step - loss: 0.1307 - val_loss: 2.9208\n",
      "Epoch 74/100\n",
      "175/175 [==============================] - 33s 188ms/step - loss: 0.1296 - val_loss: 3.1564\n",
      "Epoch 75/100\n",
      "175/175 [==============================] - 33s 189ms/step - loss: 0.1289 - val_loss: 3.4143\n",
      "Epoch 76/100\n",
      "175/175 [==============================] - 33s 188ms/step - loss: 0.1277 - val_loss: 3.6127\n",
      "Epoch 77/100\n",
      "175/175 [==============================] - 33s 190ms/step - loss: 0.1279 - val_loss: 3.4970\n",
      "Epoch 78/100\n",
      "175/175 [==============================] - 34s 192ms/step - loss: 0.1289 - val_loss: 3.5481\n",
      "Epoch 79/100\n"
     ]
    },
    {
     "name": "stdout",
     "output_type": "stream",
     "text": [
      "175/175 [==============================] - 35s 199ms/step - loss: 0.1289 - val_loss: 3.3243\n",
      "Epoch 80/100\n",
      "175/175 [==============================] - 36s 205ms/step - loss: 0.1304 - val_loss: 3.0736\n",
      "Epoch 81/100\n",
      "175/175 [==============================] - 34s 197ms/step - loss: 0.1336 - val_loss: 3.0170\n",
      "Epoch 82/100\n",
      "175/175 [==============================] - 33s 186ms/step - loss: 0.1345 - val_loss: 2.8670\n",
      "Epoch 83/100\n",
      "175/175 [==============================] - 34s 194ms/step - loss: 0.1333 - val_loss: 3.1083\n",
      "Epoch 84/100\n",
      "175/175 [==============================] - 34s 192ms/step - loss: 0.1284 - val_loss: 3.4620\n",
      "Epoch 85/100\n",
      "175/175 [==============================] - 35s 198ms/step - loss: 0.1253 - val_loss: 3.5913\n",
      "Epoch 86/100\n",
      "175/175 [==============================] - 36s 208ms/step - loss: 0.1242 - val_loss: 3.7337\n",
      "Epoch 87/100\n",
      "175/175 [==============================] - 34s 196ms/step - loss: 0.1228 - val_loss: 3.9767\n",
      "Epoch 88/100\n",
      "175/175 [==============================] - 34s 193ms/step - loss: 0.1220 - val_loss: 4.1339\n",
      "Epoch 89/100\n",
      "175/175 [==============================] - 36s 206ms/step - loss: 0.1215 - val_loss: 4.0756\n",
      "Epoch 90/100\n",
      "175/175 [==============================] - 37s 209ms/step - loss: 0.1204 - val_loss: 4.1194\n",
      "Epoch 91/100\n",
      "175/175 [==============================] - 34s 195ms/step - loss: 0.1210 - val_loss: 4.1243\n",
      "Epoch 92/100\n",
      "175/175 [==============================] - 34s 197ms/step - loss: 0.1210 - val_loss: 3.9742\n",
      "Epoch 93/100\n",
      "175/175 [==============================] - 34s 196ms/step - loss: 0.1212 - val_loss: 3.9112\n",
      "Epoch 94/100\n",
      "175/175 [==============================] - 36s 207ms/step - loss: 0.1228 - val_loss: 3.6668\n",
      "Epoch 95/100\n",
      "175/175 [==============================] - 35s 198ms/step - loss: 0.1221 - val_loss: 3.6524\n",
      "Epoch 96/100\n",
      "175/175 [==============================] - 36s 203ms/step - loss: 0.1219 - val_loss: 3.6775\n",
      "Epoch 97/100\n",
      "175/175 [==============================] - 34s 193ms/step - loss: 0.1214 - val_loss: 3.7680\n",
      "Epoch 98/100\n",
      "175/175 [==============================] - 33s 190ms/step - loss: 0.1210 - val_loss: 3.8307\n",
      "Epoch 99/100\n",
      "175/175 [==============================] - 34s 192ms/step - loss: 0.1277 - val_loss: 3.5693\n",
      "Epoch 100/100\n",
      "175/175 [==============================] - 36s 206ms/step - loss: 0.1251 - val_loss: 3.5087\n"
     ]
    }
   ],
   "source": [
    "history = model.fit(train, epochs=100, validation_data=val)"
   ]
  },
  {
   "cell_type": "code",
   "execution_count": 21,
   "metadata": {
    "collapsed": true,
    "id": "CxI5908CEZes"
   },
   "outputs": [],
   "source": [
    "from matplotlib import pyplot as plt"
   ]
  },
  {
   "cell_type": "code",
   "execution_count": 22,
   "metadata": {
    "colab": {
     "base_uri": "https://localhost:8080/",
     "height": 282
    },
    "id": "s7fi8pA9EZes",
    "outputId": "bdb77d7a-49bd-4b9b-bd1a-127464327f9d"
   },
   "outputs": [
    {
     "data": {
      "text/plain": [
       "<Figure size 800x500 with 0 Axes>"
      ]
     },
     "metadata": {},
     "output_type": "display_data"
    },
    {
     "data": {
      "image/png": "[encoded data removed]",
      "text/plain": [
       "<Figure size 640x480 with 1 Axes>"
      ]
     },
     "metadata": {},
     "output_type": "display_data"
    }
   ],
   "source": [
    "plt.figure(figsize=(8,5))\n",
    "pd.DataFrame(history.history).plot()\n",
    "plt.show()"
   ]
  },
  {
   "cell_type": "markdown",
   "metadata": {
    "id": "cgpVxFZYEZes"
   },
   "source": [
    "# 3. Make Predictions"
   ]
  },
  {
   "cell_type": "code",
   "execution_count": 23,
   "metadata": {
    "colab": {
     "base_uri": "https://localhost:8080/"
    },
    "collapsed": true,
    "id": "l7WmuBfVEZes",
    "outputId": "f60f7eb4-7062-49cd-9365-dbaaba1eb433"
   },
   "outputs": [
    {
     "data": {
      "text/plain": [
       "<tf.Tensor: shape=(1800,), dtype=int64, numpy=array([   6, 3258,  205, ...,    0,    0,    0], dtype=int64)>"
      ]
     },
     "execution_count": 23,
     "metadata": {},
     "output_type": "execute_result"
    }
   ],
   "source": [
    "input_text = vectorizer('You freaking suck! I am going to hit you.')\n",
    "input_text"
   ]
  },
  {
   "cell_type": "code",
   "execution_count": 24,
   "metadata": {
    "collapsed": true,
    "id": "mH-xJooCEZes"
   },
   "outputs": [
    {
     "name": "stdout",
     "output_type": "stream",
     "text": [
      "1/1 [==============================] - 1s 799ms/step\n"
     ]
    }
   ],
   "source": [
    "res = model.predict(np.expand_dims(input_text,0))"
   ]
  },
  {
   "cell_type": "code",
   "execution_count": 25,
   "metadata": {
    "colab": {
     "base_uri": "https://localhost:8080/"
    },
    "collapsed": true,
    "id": "Hy-elmdWEZet",
    "outputId": "bab4e98a-18d0-4633-c6d3-40850a2eb2c8"
   },
   "outputs": [
    {
     "data": {
      "text/plain": [
       "array([[0, 0, 0, 0, 0, 0, 0, 0, 0, 0]])"
      ]
     },
     "execution_count": 25,
     "metadata": {},
     "output_type": "execute_result"
    }
   ],
   "source": [
    "(res > 0.5).astype(int)"
   ]
  },
  {
   "cell_type": "code",
   "execution_count": 26,
   "metadata": {
    "collapsed": true,
    "id": "FZ25KddxEZet"
   },
   "outputs": [],
   "source": [
    "batch_X, batch_y = test.as_numpy_iterator().next()"
   ]
  },
  {
   "cell_type": "code",
   "execution_count": 27,
   "metadata": {
    "colab": {
     "base_uri": "https://localhost:8080/"
    },
    "collapsed": true,
    "id": "TreR7O0jEZet",
    "outputId": "66650f39-07f4-456d-c884-ff2405e3c5d3"
   },
   "outputs": [
    {
     "name": "stdout",
     "output_type": "stream",
     "text": [
      "7/7 [==============================] - 1s 77ms/step\n"
     ]
    },
    {
     "data": {
      "text/plain": [
       "array([[1, 1, 1, ..., 0, 1, 1],\n",
       "       [1, 1, 1, ..., 0, 1, 1],\n",
       "       [1, 1, 1, ..., 0, 1, 0],\n",
       "       ...,\n",
       "       [0, 1, 0, ..., 0, 0, 1],\n",
       "       [0, 1, 0, ..., 0, 0, 1],\n",
       "       [0, 0, 0, ..., 0, 0, 0]])"
      ]
     },
     "execution_count": 27,
     "metadata": {},
     "output_type": "execute_result"
    }
   ],
   "source": [
    "(model.predict(batch_X) > 0.5).astype(int)"
   ]
  },
  {
   "cell_type": "code",
   "execution_count": 28,
   "metadata": {
    "colab": {
     "base_uri": "https://localhost:8080/"
    },
    "collapsed": true,
    "id": "MCeg6YN3EZet",
    "outputId": "ee802b4c-8de9-4043-f73a-f1571eb2f1a8"
   },
   "outputs": [
    {
     "data": {
      "text/plain": [
       "(1, 10)"
      ]
     },
     "execution_count": 28,
     "metadata": {},
     "output_type": "execute_result"
    }
   ],
   "source": [
    "res.shape"
   ]
  },
  {
   "cell_type": "markdown",
   "metadata": {
    "id": "EGlEYo46EZet"
   },
   "source": [
    "# 4. Evaluate Model"
   ]
  },
  {
   "cell_type": "code",
   "execution_count": 29,
   "metadata": {
    "collapsed": true,
    "id": "i-O2Vfo9EZeu"
   },
   "outputs": [],
   "source": [
    "from tensorflow.keras.metrics import Precision, Recall, CategoricalAccuracy"
   ]
  },
  {
   "cell_type": "code",
   "execution_count": 30,
   "metadata": {
    "collapsed": true,
    "id": "hXBgad0UEZeu"
   },
   "outputs": [],
   "source": [
    "pre = Precision()\n",
    "re = Recall()\n",
    "acc = CategoricalAccuracy()"
   ]
  },
  {
   "cell_type": "code",
   "execution_count": 31,
   "metadata": {
    "collapsed": true,
    "id": "KS-aX6kDEZeu"
   },
   "outputs": [
    {
     "name": "stdout",
     "output_type": "stream",
     "text": [
      "7/7 [==============================] - 0s 65ms/step\n",
      "7/7 [==============================] - 1s 73ms/step\n",
      "7/7 [==============================] - 1s 70ms/step\n",
      "7/7 [==============================] - 0s 67ms/step\n",
      "7/7 [==============================] - 0s 66ms/step\n",
      "7/7 [==============================] - 0s 66ms/step\n",
      "7/7 [==============================] - 0s 69ms/step\n",
      "7/7 [==============================] - 0s 64ms/step\n",
      "7/7 [==============================] - 0s 64ms/step\n",
      "7/7 [==============================] - 1s 78ms/step\n",
      "7/7 [==============================] - 0s 67ms/step\n",
      "7/7 [==============================] - 0s 66ms/step\n",
      "7/7 [==============================] - 1s 68ms/step\n",
      "7/7 [==============================] - 0s 67ms/step\n",
      "7/7 [==============================] - 0s 66ms/step\n",
      "7/7 [==============================] - 1s 75ms/step\n",
      "7/7 [==============================] - 1s 76ms/step\n",
      "7/7 [==============================] - 1s 81ms/step\n",
      "7/7 [==============================] - 1s 120ms/step\n",
      "7/7 [==============================] - 1s 96ms/step\n",
      "7/7 [==============================] - 1s 71ms/step\n",
      "7/7 [==============================] - 1s 76ms/step\n",
      "7/7 [==============================] - 1s 71ms/step\n",
      "7/7 [==============================] - 0s 69ms/step\n",
      "7/7 [==============================] - 1s 95ms/step\n"
     ]
    }
   ],
   "source": [
    "for batch in test.as_numpy_iterator(): \n",
    "    # Unpack the batch \n",
    "    X_true, y_true = batch\n",
    "    # Make a prediction \n",
    "    yhat = model.predict(X_true)\n",
    "    \n",
    "    # Flatten the predictions\n",
    "    y_true = y_true.flatten()\n",
    "    yhat = yhat.flatten()\n",
    "    \n",
    "    pre.update_state(y_true, yhat)\n",
    "    re.update_state(y_true, yhat)\n",
    "    acc.update_state(y_true, yhat)"
   ]
  },
  {
   "cell_type": "code",
   "execution_count": 32,
   "metadata": {
    "id": "BItRvQ1lEZeu"
   },
   "outputs": [
    {
     "name": "stdout",
     "output_type": "stream",
     "text": [
      "Precision: 0.7311154007911682, Recall:0.6935917139053345, Accuracy:0.3199999928474426\n"
     ]
    }
   ],
   "source": [
    "print(f'Precision: {pre.result().numpy()}, Recall:{re.result().numpy()}, Accuracy:{acc.result().numpy()}')"
   ]
  }
 ],
 "metadata": {
  "accelerator": "GPU",
  "colab": {
   "collapsed_sections": [],
   "provenance": []
  },
  "gpuClass": "standard",
  "kernelspec": {
   "display_name": "Python 3 (ipykernel)",
   "language": "python",
   "name": "python3"
  },
  "language_info": {
   "codemirror_mode": {
    "name": "ipython",
    "version": 3
   },
   "file_extension": ".py",
   "mimetype": "text/x-python",
   "name": "python",
   "nbconvert_exporter": "python",
   "pygments_lexer": "ipython3",
   "version": "3.10.4"
  }
 },
 "nbformat": 4,
 "nbformat_minor": 1
}
